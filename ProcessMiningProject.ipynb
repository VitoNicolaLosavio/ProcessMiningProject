{
 "cells": [
  {
   "cell_type": "code",
   "execution_count": 1,
   "id": "eb4ca0f3",
   "metadata": {},
   "outputs": [
    {
     "name": "stdout",
     "output_type": "stream",
     "text": [
      "Requirement already satisfied: pandas in /Users/vitolosavio/anaconda3/lib/python3.11/site-packages (2.0.3)\n",
      "Requirement already satisfied: python-dateutil>=2.8.2 in /Users/vitolosavio/anaconda3/lib/python3.11/site-packages (from pandas) (2.8.2)\n",
      "Requirement already satisfied: pytz>=2020.1 in /Users/vitolosavio/anaconda3/lib/python3.11/site-packages (from pandas) (2023.3.post1)\n",
      "Requirement already satisfied: tzdata>=2022.1 in /Users/vitolosavio/anaconda3/lib/python3.11/site-packages (from pandas) (2023.3)\n",
      "Requirement already satisfied: numpy>=1.21.0 in /Users/vitolosavio/anaconda3/lib/python3.11/site-packages (from pandas) (1.23.5)\n",
      "Requirement already satisfied: six>=1.5 in /Users/vitolosavio/anaconda3/lib/python3.11/site-packages (from python-dateutil>=2.8.2->pandas) (1.16.0)\n",
      "Requirement already satisfied: pm4py in /Users/vitolosavio/anaconda3/lib/python3.11/site-packages (2.7.9.1)\n",
      "Requirement already satisfied: deprecation in /Users/vitolosavio/anaconda3/lib/python3.11/site-packages (from pm4py) (2.1.0)\n",
      "Requirement already satisfied: graphviz in /Users/vitolosavio/anaconda3/lib/python3.11/site-packages (from pm4py) (0.20.1)\n",
      "Requirement already satisfied: intervaltree in /Users/vitolosavio/anaconda3/lib/python3.11/site-packages (from pm4py) (3.1.0)\n",
      "Requirement already satisfied: lxml in /Users/vitolosavio/anaconda3/lib/python3.11/site-packages (from pm4py) (4.9.3)\n",
      "Requirement already satisfied: matplotlib in /Users/vitolosavio/anaconda3/lib/python3.11/site-packages (from pm4py) (3.7.2)\n",
      "Requirement already satisfied: networkx in /Users/vitolosavio/anaconda3/lib/python3.11/site-packages (from pm4py) (3.1)\n",
      "Requirement already satisfied: numpy in /Users/vitolosavio/anaconda3/lib/python3.11/site-packages (from pm4py) (1.23.5)\n",
      "Requirement already satisfied: pandas in /Users/vitolosavio/anaconda3/lib/python3.11/site-packages (from pm4py) (2.0.3)\n",
      "Requirement already satisfied: pydotplus in /Users/vitolosavio/anaconda3/lib/python3.11/site-packages (from pm4py) (2.0.2)\n",
      "Requirement already satisfied: pytz in /Users/vitolosavio/anaconda3/lib/python3.11/site-packages (from pm4py) (2023.3.post1)\n",
      "Requirement already satisfied: scipy in /Users/vitolosavio/anaconda3/lib/python3.11/site-packages (from pm4py) (1.11.1)\n",
      "Requirement already satisfied: stringdist in /Users/vitolosavio/anaconda3/lib/python3.11/site-packages (from pm4py) (1.0.9)\n",
      "Requirement already satisfied: tqdm in /Users/vitolosavio/anaconda3/lib/python3.11/site-packages (from pm4py) (4.65.0)\n",
      "Requirement already satisfied: cvxopt in /Users/vitolosavio/anaconda3/lib/python3.11/site-packages (from pm4py) (1.3.2)\n",
      "Requirement already satisfied: packaging in /Users/vitolosavio/anaconda3/lib/python3.11/site-packages (from deprecation->pm4py) (23.1)\n",
      "Requirement already satisfied: sortedcontainers<3.0,>=2.0 in /Users/vitolosavio/anaconda3/lib/python3.11/site-packages (from intervaltree->pm4py) (2.4.0)\n",
      "Requirement already satisfied: contourpy>=1.0.1 in /Users/vitolosavio/anaconda3/lib/python3.11/site-packages (from matplotlib->pm4py) (1.0.5)\n",
      "Requirement already satisfied: cycler>=0.10 in /Users/vitolosavio/anaconda3/lib/python3.11/site-packages (from matplotlib->pm4py) (0.11.0)\n",
      "Requirement already satisfied: fonttools>=4.22.0 in /Users/vitolosavio/anaconda3/lib/python3.11/site-packages (from matplotlib->pm4py) (4.25.0)\n",
      "Requirement already satisfied: kiwisolver>=1.0.1 in /Users/vitolosavio/anaconda3/lib/python3.11/site-packages (from matplotlib->pm4py) (1.4.4)\n",
      "Requirement already satisfied: pillow>=6.2.0 in /Users/vitolosavio/anaconda3/lib/python3.11/site-packages (from matplotlib->pm4py) (9.4.0)\n",
      "Requirement already satisfied: pyparsing<3.1,>=2.3.1 in /Users/vitolosavio/anaconda3/lib/python3.11/site-packages (from matplotlib->pm4py) (3.0.9)\n",
      "Requirement already satisfied: python-dateutil>=2.7 in /Users/vitolosavio/anaconda3/lib/python3.11/site-packages (from matplotlib->pm4py) (2.8.2)\n",
      "Requirement already satisfied: tzdata>=2022.1 in /Users/vitolosavio/anaconda3/lib/python3.11/site-packages (from pandas->pm4py) (2023.3)\n",
      "Requirement already satisfied: six>=1.5 in /Users/vitolosavio/anaconda3/lib/python3.11/site-packages (from python-dateutil>=2.7->matplotlib->pm4py) (1.16.0)\n"
     ]
    }
   ],
   "source": [
    "!pip install pandas\n",
    "!pip install pm4py"
   ]
  },
  {
   "cell_type": "code",
   "execution_count": 2,
   "id": "a52f6554",
   "metadata": {},
   "outputs": [],
   "source": [
    "import pandas as pd\n",
    "import pm4py"
   ]
  },
  {
   "cell_type": "markdown",
   "id": "f749472f",
   "metadata": {},
   "source": [
    "# Adapting the txt file to the task at hand\n",
    "The dataset given is a file txt from which we will take only the data we need and make save in another file"
   ]
  },
  {
   "cell_type": "code",
   "execution_count": 3,
   "id": "6c0cd0fa",
   "metadata": {},
   "outputs": [],
   "source": [
    "# path of the correct dataset given\n",
    "path = 'dataset/'\n",
    "\n",
    "# file open\n",
    "f = open(path + 'mpo_def18-gen.txt', 'r')\n",
    "lines = f.readlines()[:]"
   ]
  },
  {
   "cell_type": "code",
   "execution_count": 4,
   "id": "5c73be3c",
   "metadata": {},
   "outputs": [
    {
     "data": {
      "text/plain": [
       "['entry(1,begin_of_process,monday,monday6637,none,none).',\n",
       " 'entry(2,begin_of_activity,monday,monday6637,sit_down,1).',\n",
       " 'entry(3,begin_of_activity,monday,monday6637,eat_meal,1).',\n",
       " 'entry(4,end_of_activity,monday,monday6637,eat_meal,1).',\n",
       " 'entry(5,end_of_activity,monday,monday6637,sit_down,1).']"
      ]
     },
     "execution_count": 4,
     "metadata": {},
     "output_type": "execute_result"
    }
   ],
   "source": [
    "lines = [line.replace('\\n','') for line in lines]\n",
    "lines[:5]"
   ]
  },
  {
   "cell_type": "code",
   "execution_count": 5,
   "id": "35ed6f1e",
   "metadata": {},
   "outputs": [
    {
     "data": {
      "text/plain": [
       "['1,begin_of_process,monday,monday6637,none,none',\n",
       " '2,begin_of_activity,monday,monday6637,sit_down,1',\n",
       " '3,begin_of_activity,monday,monday6637,eat_meal,1',\n",
       " '4,end_of_activity,monday,monday6637,eat_meal,1',\n",
       " '5,end_of_activity,monday,monday6637,sit_down,1']"
      ]
     },
     "execution_count": 5,
     "metadata": {},
     "output_type": "execute_result"
    }
   ],
   "source": [
    "# get the relevant information of all lines\n",
    "lines = [line.split('(')[1] for line in lines]\n",
    "lines = [line.split(')')[0] for line in lines]\n",
    "lines[:5]"
   ]
  },
  {
   "cell_type": "code",
   "execution_count": 6,
   "id": "344e2081",
   "metadata": {},
   "outputs": [
    {
     "data": {
      "text/plain": [
       "25022"
      ]
     },
     "execution_count": 6,
     "metadata": {},
     "output_type": "execute_result"
    }
   ],
   "source": [
    "# Save the CSV\n",
    "write_file = open(path + 'data/def18-gen_data.txt', 'w')\n",
    "write_file.write(\"\\n\".join(lines))"
   ]
  },
  {
   "cell_type": "markdown",
   "id": "e3313e49",
   "metadata": {},
   "source": [
    "# Import data as CSV"
   ]
  },
  {
   "cell_type": "code",
   "execution_count": 7,
   "id": "ddd104d0",
   "metadata": {},
   "outputs": [
    {
     "data": {
      "text/html": [
       "<div>\n",
       "<style scoped>\n",
       "    .dataframe tbody tr th:only-of-type {\n",
       "        vertical-align: middle;\n",
       "    }\n",
       "\n",
       "    .dataframe tbody tr th {\n",
       "        vertical-align: top;\n",
       "    }\n",
       "\n",
       "    .dataframe thead th {\n",
       "        text-align: right;\n",
       "    }\n",
       "</style>\n",
       "<table border=\"1\" class=\"dataframe\">\n",
       "  <thead>\n",
       "    <tr style=\"text-align: right;\">\n",
       "      <th></th>\n",
       "      <th>EventTimestamp</th>\n",
       "      <th>TypeOfEvent</th>\n",
       "      <th>ReferenceWorkflow</th>\n",
       "      <th>CaseIdentifier</th>\n",
       "      <th>NameActivity</th>\n",
       "      <th>OccurrencyOfActivity</th>\n",
       "    </tr>\n",
       "  </thead>\n",
       "  <tbody>\n",
       "    <tr>\n",
       "      <th>0</th>\n",
       "      <td>1</td>\n",
       "      <td>begin_of_process</td>\n",
       "      <td>monday</td>\n",
       "      <td>monday6637</td>\n",
       "      <td>none</td>\n",
       "      <td>none</td>\n",
       "    </tr>\n",
       "    <tr>\n",
       "      <th>1</th>\n",
       "      <td>2</td>\n",
       "      <td>begin_of_activity</td>\n",
       "      <td>monday</td>\n",
       "      <td>monday6637</td>\n",
       "      <td>sit_down</td>\n",
       "      <td>1</td>\n",
       "    </tr>\n",
       "    <tr>\n",
       "      <th>2</th>\n",
       "      <td>3</td>\n",
       "      <td>begin_of_activity</td>\n",
       "      <td>monday</td>\n",
       "      <td>monday6637</td>\n",
       "      <td>eat_meal</td>\n",
       "      <td>1</td>\n",
       "    </tr>\n",
       "    <tr>\n",
       "      <th>3</th>\n",
       "      <td>4</td>\n",
       "      <td>end_of_activity</td>\n",
       "      <td>monday</td>\n",
       "      <td>monday6637</td>\n",
       "      <td>eat_meal</td>\n",
       "      <td>1</td>\n",
       "    </tr>\n",
       "    <tr>\n",
       "      <th>4</th>\n",
       "      <td>5</td>\n",
       "      <td>end_of_activity</td>\n",
       "      <td>monday</td>\n",
       "      <td>monday6637</td>\n",
       "      <td>sit_down</td>\n",
       "      <td>1</td>\n",
       "    </tr>\n",
       "  </tbody>\n",
       "</table>\n",
       "</div>"
      ],
      "text/plain": [
       "   EventTimestamp        TypeOfEvent ReferenceWorkflow CaseIdentifier  \\\n",
       "0               1   begin_of_process            monday     monday6637   \n",
       "1               2  begin_of_activity            monday     monday6637   \n",
       "2               3  begin_of_activity            monday     monday6637   \n",
       "3               4    end_of_activity            monday     monday6637   \n",
       "4               5    end_of_activity            monday     monday6637   \n",
       "\n",
       "  NameActivity OccurrencyOfActivity  \n",
       "0         none                 none  \n",
       "1     sit_down                    1  \n",
       "2     eat_meal                    1  \n",
       "3     eat_meal                    1  \n",
       "4     sit_down                    1  "
      ]
     },
     "execution_count": 7,
     "metadata": {},
     "output_type": "execute_result"
    }
   ],
   "source": [
    "# According to the paper, we set the column name as the description of the \n",
    "# 6-tuple\n",
    "columns_name = [\n",
    "    'EventTimestamp' , \n",
    "    'TypeOfEvent', \n",
    "    'ReferenceWorkflow',\n",
    "    'CaseIdentifier',\n",
    "    'NameActivity',\n",
    "    'OccurrencyOfActivity'\n",
    "]\n",
    "\n",
    "df = pd.read_csv(path + 'data/def30_data.txt', names = columns_name)\n",
    "df.head()"
   ]
  },
  {
   "cell_type": "code",
   "execution_count": 8,
   "id": "f61c6b7e",
   "metadata": {},
   "outputs": [
    {
     "data": {
      "text/html": [
       "<div>\n",
       "<style scoped>\n",
       "    .dataframe tbody tr th:only-of-type {\n",
       "        vertical-align: middle;\n",
       "    }\n",
       "\n",
       "    .dataframe tbody tr th {\n",
       "        vertical-align: top;\n",
       "    }\n",
       "\n",
       "    .dataframe thead th {\n",
       "        text-align: right;\n",
       "    }\n",
       "</style>\n",
       "<table border=\"1\" class=\"dataframe\">\n",
       "  <thead>\n",
       "    <tr style=\"text-align: right;\">\n",
       "      <th></th>\n",
       "      <th>EventTimestamp</th>\n",
       "      <th>TypeOfEvent</th>\n",
       "      <th>ReferenceWorkflow</th>\n",
       "      <th>CaseIdentifier</th>\n",
       "      <th>NameActivity</th>\n",
       "      <th>OccurrencyOfActivity</th>\n",
       "    </tr>\n",
       "  </thead>\n",
       "  <tbody>\n",
       "    <tr>\n",
       "      <th>0</th>\n",
       "      <td>1970-01-01 00:00:00.000000001</td>\n",
       "      <td>begin_of_process</td>\n",
       "      <td>monday</td>\n",
       "      <td>monday6637</td>\n",
       "      <td>none</td>\n",
       "      <td>none</td>\n",
       "    </tr>\n",
       "    <tr>\n",
       "      <th>1</th>\n",
       "      <td>1970-01-01 00:00:00.000000002</td>\n",
       "      <td>begin_of_activity</td>\n",
       "      <td>monday</td>\n",
       "      <td>monday6637</td>\n",
       "      <td>sit_down</td>\n",
       "      <td>1</td>\n",
       "    </tr>\n",
       "    <tr>\n",
       "      <th>2</th>\n",
       "      <td>1970-01-01 00:00:00.000000003</td>\n",
       "      <td>begin_of_activity</td>\n",
       "      <td>monday</td>\n",
       "      <td>monday6637</td>\n",
       "      <td>eat_meal</td>\n",
       "      <td>1</td>\n",
       "    </tr>\n",
       "    <tr>\n",
       "      <th>3</th>\n",
       "      <td>1970-01-01 00:00:00.000000004</td>\n",
       "      <td>end_of_activity</td>\n",
       "      <td>monday</td>\n",
       "      <td>monday6637</td>\n",
       "      <td>eat_meal</td>\n",
       "      <td>1</td>\n",
       "    </tr>\n",
       "    <tr>\n",
       "      <th>4</th>\n",
       "      <td>1970-01-01 00:00:00.000000005</td>\n",
       "      <td>end_of_activity</td>\n",
       "      <td>monday</td>\n",
       "      <td>monday6637</td>\n",
       "      <td>sit_down</td>\n",
       "      <td>1</td>\n",
       "    </tr>\n",
       "  </tbody>\n",
       "</table>\n",
       "</div>"
      ],
      "text/plain": [
       "                 EventTimestamp        TypeOfEvent ReferenceWorkflow  \\\n",
       "0 1970-01-01 00:00:00.000000001   begin_of_process            monday   \n",
       "1 1970-01-01 00:00:00.000000002  begin_of_activity            monday   \n",
       "2 1970-01-01 00:00:00.000000003  begin_of_activity            monday   \n",
       "3 1970-01-01 00:00:00.000000004    end_of_activity            monday   \n",
       "4 1970-01-01 00:00:00.000000005    end_of_activity            monday   \n",
       "\n",
       "  CaseIdentifier NameActivity OccurrencyOfActivity  \n",
       "0     monday6637         none                 none  \n",
       "1     monday6637     sit_down                    1  \n",
       "2     monday6637     eat_meal                    1  \n",
       "3     monday6637     eat_meal                    1  \n",
       "4     monday6637     sit_down                    1  "
      ]
     },
     "execution_count": 8,
     "metadata": {},
     "output_type": "execute_result"
    }
   ],
   "source": [
    "# For doing process mining, we need a timestamp, in this case we convert the EventTimestamp\n",
    "\n",
    "# CONTROLL THIS\n",
    "df['EventTimestamp'] = pd.to_datetime(df['EventTimestamp'])\n",
    "df.head()"
   ]
  },
  {
   "cell_type": "code",
   "execution_count": 9,
   "id": "4546ce3d",
   "metadata": {},
   "outputs": [
    {
     "name": "stderr",
     "output_type": "stream",
     "text": [
      "/Users/vitolosavio/anaconda3/lib/python3.11/site-packages/pm4py/utils.py:538: UserWarning: the EventLog class has been deprecated and will be removed in a future release.\n",
      "  warnings.warn(\"the EventLog class has been deprecated and will be removed in a future release.\")\n"
     ]
    },
    {
     "data": {
      "application/vnd.jupyter.widget-view+json": {
       "model_id": "27df26d78c7a4ab2b3a7a9cc14d1de63",
       "version_major": 2,
       "version_minor": 0
      },
      "text/plain": [
       "exporting log, completed traces ::   0%|          | 0/5 [00:00<?, ?it/s]"
      ]
     },
     "metadata": {},
     "output_type": "display_data"
    }
   ],
   "source": [
    "log = pm4py.format_dataframe(df,\n",
    "                            case_id='TypeOfEvent',\n",
    "                            activity_key='NameActivity', \n",
    "                            timestamp_key='EventTimestamp'\n",
    "                           ) \n",
    "\n",
    "log = pm4py.convert_to_event_log(log)\n",
    "pm4py.write_xes(log, path + 'data/def30_data.xes')"
   ]
  }
 ],
 "metadata": {
  "kernelspec": {
   "display_name": "Python 3 (ipykernel)",
   "language": "python",
   "name": "python3"
  },
  "language_info": {
   "codemirror_mode": {
    "name": "ipython",
    "version": 3
   },
   "file_extension": ".py",
   "mimetype": "text/x-python",
   "name": "python",
   "nbconvert_exporter": "python",
   "pygments_lexer": "ipython3",
   "version": "3.11.5"
  }
 },
 "nbformat": 4,
 "nbformat_minor": 5
}
